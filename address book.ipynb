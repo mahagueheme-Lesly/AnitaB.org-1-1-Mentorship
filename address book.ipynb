{
 "cells": [
  {
   "cell_type": "markdown",
   "id": "5b89aa34",
   "metadata": {},
   "source": [
    "## Address book\n"
   ]
  },
  {
   "cell_type": "code",
   "execution_count": 1,
   "id": "1f091041",
   "metadata": {
    "collapsed": true
   },
   "outputs": [
    {
     "name": "stderr",
     "output_type": "stream",
     "text": [
      "Cloning into 'Lesly-Mentoring'...\n"
     ]
    }
   ],
   "source": [
    "!git clone https://github.com/MargaretOluwadare/Lesly-Mentoring.git"
   ]
  },
  {
   "cell_type": "code",
   "execution_count": 3,
   "id": "df70e11e",
   "metadata": {
    "collapsed": true
   },
   "outputs": [
    {
     "name": "stdout",
     "output_type": "stream",
     "text": [
      "Already up to date.\n"
     ]
    },
    {
     "name": "stderr",
     "output_type": "stream",
     "text": [
      "From https://github.com/mahagueheme-Lesly/AnitaB.org-1-1-Mentorship\n",
      " * branch            main       -> FETCH_HEAD\n"
     ]
    }
   ],
   "source": [
    "!git pull origin main"
   ]
  },
  {
   "cell_type": "code",
   "execution_count": 9,
   "id": "6b4586a8",
   "metadata": {},
   "outputs": [],
   "source": [
    "import json\n",
    "\n",
    "# File to store the contacts\n",
    "filename = \"address_book.json\""
   ]
  },
  {
   "cell_type": "code",
   "execution_count": 18,
   "id": "76b12a08",
   "metadata": {},
   "outputs": [],
   "source": [
    "def load_contacts():\n",
    "    try:\n",
    "        with open(FILE_NAME, 'r') as file:\n",
    "            return json.load(file)\n",
    "    except (FileNotFoundError, json.JSONDecodeError):\n",
    "        return {}\n",
    "\n",
    "# Function to save contacts to the file\n",
    "def Save(contacts):\n",
    "    with open(FILE_NAME, 'w') as file:\n",
    "        json.dump(contacts, file, indent=4)\n",
    "\n",
    "# Function to display the menu\n",
    "def display_menu():\n",
    "    print(\"\\nAddress Book Menu:\")\n",
    "    print(\"1. Add\")\n",
    "    print(\"2. View All\")\n",
    "    print(\"3. Search\")\n",
    "    print(\"4. Edit\")\n",
    "    print(\"5. Delete\")\n",
    "    print(\"6. Save\")"
   ]
  },
  {
   "cell_type": "code",
   "execution_count": 19,
   "id": "cc76fa8c",
   "metadata": {},
   "outputs": [],
   "source": [
    "# Function to add a new contact\n",
    "def Add(contacts):\n",
    "    name = input(\"Enter Name: \").strip()\n",
    "    if name in contacts:\n",
    "        print(\"Contact already exists.\")\n",
    "        return\n",
    "    phone = input(\"Enter Phone Number: \").strip()\n",
    "    contacts[name] = {\"Phone\": phone}\n",
    "    print(f\"Contact '{name}' added.\")\n"
   ]
  },
  {
   "cell_type": "code",
   "execution_count": 20,
   "id": "7a46e150",
   "metadata": {},
   "outputs": [],
   "source": [
    "# Function to view all contacts\n",
    "def View(contacts):\n",
    "    if not contacts:\n",
    "        print(\"No contacts found.\")\n",
    "        return\n",
    "    print(\"\\nContacts:\")\n",
    "    for name, details in contacts.items():\n",
    "        print(f\"Name: {name}, Phone: {details['Phone']}\")\n"
   ]
  },
  {
   "cell_type": "code",
   "execution_count": 21,
   "id": "2f382ea3",
   "metadata": {},
   "outputs": [],
   "source": [
    "# Function to search for a contact\n",
    "def Search(contacts):\n",
    "    name = input(\"Enter Name to Search: \").strip()\n",
    "    if name in contacts:\n",
    "        details = contacts[name]\n",
    "        print(f\"Found Contact - Name: {name}, Phone: {details['Phone']}\")\n",
    "    else:\n",
    "        print(\"Contact not found.\")"
   ]
  },
  {
   "cell_type": "code",
   "execution_count": 22,
   "id": "6a26087e",
   "metadata": {},
   "outputs": [],
   "source": [
    "# Function to edit an existing contact\n",
    "def Edit(contacts):\n",
    "    name = input(\"Enter Name to Update: \").strip()\n",
    "    if name not in contacts:\n",
    "        print(\"Contact not found.\")\n",
    "        return\n",
    "    print(f\"Updating Contact - Name: {name}, Current Details: Phone: {contacts[name]['Phone']}\")\n",
    "    phone = input(int(\"Enter New Phone Number (leave blank to keep current): \")).strip()\n",
    "    if phone:\n",
    "        contacts[name]['Phone'] = phone\n",
    "    print(f\"Contact '{name}' updated.\")"
   ]
  },
  {
   "cell_type": "code",
   "execution_count": 23,
   "id": "bb886f75",
   "metadata": {},
   "outputs": [],
   "source": [
    "# Function to delete a contact\n",
    "def Delete(contacts):\n",
    "    name = input(\"Enter Name to Delete: \").strip()\n",
    "    if name in contacts:\n",
    "        del contacts[name]\n",
    "        print(f\"Contact '{name}' deleted.\")\n",
    "    else:\n",
    "        print(\"Contact not found.\")"
   ]
  },
  {
   "cell_type": "code",
   "execution_count": null,
   "id": "d5bf853e",
   "metadata": {},
   "outputs": [
    {
     "name": "stdout",
     "output_type": "stream",
     "text": [
      "\n",
      "Address Book Menu:\n",
      "1. Add\n",
      "2. View All\n",
      "3. Search\n",
      "4. Edit\n",
      "5. Delete\n",
      "6. Save\n",
      "Choose an option: 1\n",
      "Enter Name: lesly\n",
      "Enter Phone Number: 677\n",
      "Contact 'lesly' added.\n",
      "\n",
      "Address Book Menu:\n",
      "1. Add\n",
      "2. View All\n",
      "3. Search\n",
      "4. Edit\n",
      "5. Delete\n",
      "6. Save\n",
      "Choose an option: 2\n",
      "\n",
      "Contacts:\n",
      "Name: Lesly, Phone: 0023769786\n",
      "Name: lesly, Phone: 677\n",
      "\n",
      "Address Book Menu:\n",
      "1. Add\n",
      "2. View All\n",
      "3. Search\n",
      "4. Edit\n",
      "5. Delete\n",
      "6. Save\n"
     ]
    }
   ],
   "source": [
    "def main():\n",
    "    contacts = load_contacts()\n",
    "\n",
    "    while True:\n",
    "        display_menu()\n",
    "        choice = input(\"Choose an option: \").strip()\n",
    "        if choice == '1':\n",
    "            Add(contacts)\n",
    "        elif choice == '2':\n",
    "            View(contacts)\n",
    "        elif choice == '3':\n",
    "            Search(contacts)\n",
    "        elif choice == '4':\n",
    "            Edit(contacts)\n",
    "        elif choice == '5':\n",
    "            Delete(contacts)\n",
    "        elif choice == '6':\n",
    "            Save(contacts)\n",
    "            print(\"Contact saved sucessfully!\")\n",
    "            break\n",
    "        else:\n",
    "            print(\"Invalid choice. Please try again.\")\n",
    "\n",
    "# Run the program\n",
    "if __name__ == \"__main__\":\n",
    "    main()"
   ]
  },
  {
   "cell_type": "code",
   "execution_count": null,
   "id": "a6b3b1d8",
   "metadata": {},
   "outputs": [],
   "source": []
  },
  {
   "cell_type": "code",
   "execution_count": null,
   "id": "4536629d",
   "metadata": {},
   "outputs": [],
   "source": []
  },
  {
   "cell_type": "code",
   "execution_count": null,
   "id": "2273235c",
   "metadata": {},
   "outputs": [],
   "source": []
  }
 ],
 "metadata": {
  "kernelspec": {
   "display_name": "Python 3 (ipykernel)",
   "language": "python",
   "name": "python3"
  },
  "language_info": {
   "codemirror_mode": {
    "name": "ipython",
    "version": 3
   },
   "file_extension": ".py",
   "mimetype": "text/x-python",
   "name": "python",
   "nbconvert_exporter": "python",
   "pygments_lexer": "ipython3",
   "version": "3.11.5"
  }
 },
 "nbformat": 4,
 "nbformat_minor": 5
}
