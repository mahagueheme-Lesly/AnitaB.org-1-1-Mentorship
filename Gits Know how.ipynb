{
 "cells": [
  {
   "cell_type": "markdown",
   "id": "8c75c036",
   "metadata": {},
   "source": [
    "Yes, you can use Git in Jupyter Notebook! While Git isn't natively integrated into Jupyter, you can run Git commands in your notebooks using the **`!` operator**. This allows you to interact with Git directly within the notebook environment.\n",
    "\n",
    "---\n",
    "\n",
    "### **How to Use Git in Jupyter Notebook**\n",
    "\n",
    "#### **1. Prerequisites**\n",
    "- **Git Installed**: Ensure Git is installed and configured on your system. Test this in your terminal with:\n",
    "  ```bash\n",
    "  git --version\n",
    "  ```\n",
    "- **Git Repository**: Ensure your project is inside a Git repository. You can initialize one if needed:\n",
    "  ```bash\n",
    "  git init\n",
    "  ```\n",
    "\n",
    "#### **2. Common Git Commands in Jupyter Notebook**\n",
    "Use the **`!` operator** to run terminal commands, including Git commands.\n",
    "\n",
    "- **Check Git Status**:\n",
    "  ```python\n",
    "  !git status\n",
    "  ```\n",
    "\n",
    "- **Stage Changes**:\n",
    "  ```python\n",
    "  !git add <filename>\n",
    "  ```\n",
    "  Example:\n",
    "  ```python\n",
    "  !git add my_notebook.ipynb\n",
    "  ```\n",
    "\n",
    "- **Commit Changes**:\n",
    "  ```python\n",
    "  !git commit -m \"Added new notebook\"\n",
    "  ```\n",
    "\n",
    "- **Push Changes to GitHub**:\n",
    "  ```python\n",
    "  !git push origin main\n",
    "  ```\n",
    "\n",
    "- **Pull Updates from GitHub**:\n",
    "  ```python\n",
    "  !git pull origin main\n",
    "  ```\n",
    "\n",
    "- **Clone a Repository**:\n",
    "  ```python\n",
    "  !git clone https://github.com/username/repository.git\n",
    "  ```\n",
    "\n",
    "---\n",
    "\n",
    "### **3. Example Workflow**\n",
    "Here’s a complete workflow for version-controlling your Jupyter Notebook:\n",
    "\n",
    "1. **Initialize a Repository (if not already done)**:\n",
    "   ```python\n",
    "   !git init\n",
    "   ```\n",
    "\n",
    "2. **Check the Repository Status**:\n",
    "   ```python\n",
    "   !git status\n",
    "   ```\n",
    "\n",
    "3. **Stage Your Notebook**:\n",
    "   ```python\n",
    "   !git add my_notebook.ipynb\n",
    "   ```\n",
    "\n",
    "4. **Commit the Changes**:\n",
    "   ```python\n",
    "   !git commit -m \"Initial commit for my notebook\"\n",
    "   ```\n",
    "\n",
    "5. **Push to GitHub**:\n",
    "   If your repository is already connected to GitHub:\n",
    "   ```python\n",
    "   !git push origin main\n",
    "   ```\n",
    "   If not, first add the remote URL:\n",
    "   ```python\n",
    "   !git remote add origin https://github.com/username/repository.git\n",
    "   !git branch -M main\n",
    "   !git push -u origin main\n",
    "   ```\n",
    "\n",
    "---\n",
    "\n",
    "### **4. Using JupyterLab Git Extension**\n",
    "If you're using **JupyterLab**, you can install the **JupyterLab Git extension** for a graphical interface to manage Git operations.\n",
    "\n",
    "#### Installation:\n",
    "1. Install Git extension:\n",
    "   ```bash\n",
    "   pip install jupyterlab-git\n",
    "   jupyter labextension install @jupyterlab/git\n",
    "   ```\n",
    "2. Start JupyterLab:\n",
    "   ```bash\n",
    "   jupyter lab\n",
    "   ```\n",
    "\n",
    "You’ll see a Git tab in the left-hand sidebar, where you can perform Git operations with a GUI.\n",
    "\n",
    "---\n",
    "\n",
    "### **5. Tips for Using Git with Jupyter Notebooks**\n",
    "- **Minimize Merge Conflicts**: Jupyter Notebooks are JSON files, and merging changes can be tricky. Use tools like **`nbdime`** to handle notebook diffs and merges:\n",
    "  ```bash\n",
    "  pip install nbdime\n",
    "  nbdime diff notebook1.ipynb notebook2.ipynb\n",
    "  ```\n",
    "- **Keep Outputs Clean**: If your notebooks contain large outputs, consider clearing them before committing:\n",
    "  ```python\n",
    "  !jupyter nbconvert --ClearOutputPreprocessor.enabled=True --inplace my_notebook.ipynb\n",
    "  ```\n",
    "\n",
    "---\n",
    "\n",
    "With these steps, you can seamlessly use Git within Jupyter Notebook for version control and collaboration. Let me know if you need help with a specific workflow or tool! 😊"
   ]
  },
  {
   "cell_type": "code",
   "execution_count": 1,
   "id": "42834911",
   "metadata": {},
   "outputs": [
    {
     "name": "stdout",
     "output_type": "stream",
     "text": [
      "git version 2.45.0.windows.1\n"
     ]
    }
   ],
   "source": [
    "!git --version"
   ]
  },
  {
   "cell_type": "code",
   "execution_count": 2,
   "id": "7058e5e2",
   "metadata": {},
   "outputs": [],
   "source": [
    "!mkdir data_files"
   ]
  },
  {
   "cell_type": "code",
   "execution_count": 3,
   "id": "25ea4bd3",
   "metadata": {},
   "outputs": [
    {
     "name": "stdout",
     "output_type": "stream",
     "text": [
      "On branch main\n",
      "Your branch is up to date with 'origin/main'.\n",
      "\n",
      "Untracked files:\n",
      "  (use \"git add <file>...\" to include in what will be committed)\n",
      "\tGits Know how.ipynb\n",
      "\n",
      "nothing added to commit but untracked files present (use \"git add\" to track)\n"
     ]
    }
   ],
   "source": [
    "!git status"
   ]
  },
  {
   "cell_type": "code",
   "execution_count": 5,
   "id": "c7f0d2c4",
   "metadata": {},
   "outputs": [],
   "source": [
    "!git add Stage-1"
   ]
  },
  {
   "cell_type": "code",
   "execution_count": 6,
   "id": "3e68f69f",
   "metadata": {},
   "outputs": [
    {
     "name": "stdout",
     "output_type": "stream",
     "text": [
      "On branch main\n",
      "Your branch is up to date with 'origin/main'.\n",
      "\n",
      "Untracked files:\n",
      "  (use \"git add <file>...\" to include in what will be committed)\n",
      "\t.ipynb_checkpoints/\n",
      "\tGits Know how.ipynb\n",
      "\n",
      "nothing added to commit but untracked files present (use \"git add\" to track)\n"
     ]
    }
   ],
   "source": [
    "!git commit -m \"Added folder via Jupyter\""
   ]
  },
  {
   "cell_type": "code",
   "execution_count": 7,
   "id": "00513250",
   "metadata": {},
   "outputs": [
    {
     "name": "stderr",
     "output_type": "stream",
     "text": [
      "Everything up-to-date\n"
     ]
    }
   ],
   "source": [
    "!git push origin main"
   ]
  },
  {
   "cell_type": "code",
   "execution_count": 8,
   "id": "6a9b32be",
   "metadata": {},
   "outputs": [
    {
     "name": "stdout",
     "output_type": "stream",
     "text": [
      "* main\n"
     ]
    }
   ],
   "source": [
    "!git branch"
   ]
  },
  {
   "cell_type": "code",
   "execution_count": 9,
   "id": "95b31e0b",
   "metadata": {},
   "outputs": [
    {
     "name": "stdout",
     "output_type": "stream",
     "text": [
      "origin\thttps://github.com/mahagueheme-Lesly/AnitaB.org-1-1-Mentorship.git (fetch)\n",
      "origin\thttps://github.com/mahagueheme-Lesly/AnitaB.org-1-1-Mentorship.git (push)\n"
     ]
    }
   ],
   "source": [
    "!git remote -v"
   ]
  },
  {
   "cell_type": "code",
   "execution_count": 10,
   "id": "1e0b6551",
   "metadata": {},
   "outputs": [
    {
     "name": "stdout",
     "output_type": "stream",
     "text": [
      "On branch main\n",
      "Your branch is up to date with 'origin/main'.\n",
      "\n",
      "Untracked files:\n",
      "  (use \"git add <file>...\" to include in what will be committed)\n",
      "\t.ipynb_checkpoints/\n",
      "\tGits Know how.ipynb\n",
      "\n",
      "nothing added to commit but untracked files present (use \"git add\" to track)\n"
     ]
    }
   ],
   "source": [
    "!git status\n"
   ]
  },
  {
   "cell_type": "code",
   "execution_count": null,
   "id": "fd4c57ce",
   "metadata": {},
   "outputs": [],
   "source": []
  }
 ],
 "metadata": {
  "kernelspec": {
   "display_name": "Python 3 (ipykernel)",
   "language": "python",
   "name": "python3"
  },
  "language_info": {
   "codemirror_mode": {
    "name": "ipython",
    "version": 3
   },
   "file_extension": ".py",
   "mimetype": "text/x-python",
   "name": "python",
   "nbconvert_exporter": "python",
   "pygments_lexer": "ipython3",
   "version": "3.11.5"
  }
 },
 "nbformat": 4,
 "nbformat_minor": 5
}
