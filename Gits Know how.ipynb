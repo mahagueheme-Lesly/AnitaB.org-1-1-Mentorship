{
 "cells": [
  {
   "cell_type": "markdown",
   "id": "8c75c036",
   "metadata": {},
   "source": [
    "Yes, you can use Git in Jupyter Notebook! While Git isn't natively integrated into Jupyter, you can run Git commands in your notebooks using the **`!` operator**. This allows you to interact with Git directly within the notebook environment.\n",
    "\n",
    "---\n",
    "\n",
    "### **How to Use Git in Jupyter Notebook**\n",
    "\n",
    "#### **1. Prerequisites**\n",
    "- **Git Installed**: Ensure Git is installed and configured on your system. Test this in your terminal with:\n",
    "  ```bash\n",
    "  git --version\n",
    "  ```\n",
    "- **Git Repository**: Ensure your project is inside a Git repository. You can initialize one if needed:\n",
    "  ```bash\n",
    "  git init\n",
    "  ```\n",
    "\n",
    "#### **2. Common Git Commands in Jupyter Notebook**\n",
    "Use the **`!` operator** to run terminal commands, including Git commands.\n",
    "\n",
    "- **Check Git Status**:\n",
    "  ```python\n",
    "  !git status\n",
    "  ```\n",
    "\n",
    "- **Stage Changes**:\n",
    "  ```python\n",
    "  !git add <filename>\n",
    "  ```\n",
    "  Example:\n",
    "  ```python\n",
    "  !git add my_notebook.ipynb\n",
    "  ```\n",
    "\n",
    "- **Commit Changes**:\n",
    "  ```python\n",
    "  !git commit -m \"Added new notebook\"\n",
    "  ```\n",
    "\n",
    "- **Push Changes to GitHub**:\n",
    "  ```python\n",
    "  !git push origin main\n",
    "  ```\n",
    "\n",
    "- **Pull Updates from GitHub**:\n",
    "  ```python\n",
    "  !git pull origin main\n",
    "  ```\n",
    "\n",
    "- **Clone a Repository**:\n",
    "  ```python\n",
    "  !git clone https://github.com/username/repository.git\n",
    "  ```\n",
    "\n",
    "---\n",
    "\n",
    "### **3. Example Workflow**\n",
    "Here’s a complete workflow for version-controlling your Jupyter Notebook:\n",
    "\n",
    "1. **Initialize a Repository (if not already done)**:\n",
    "   ```python\n",
    "   !git init\n",
    "   ```\n",
    "\n",
    "2. **Check the Repository Status**:\n",
    "   ```python\n",
    "   !git status\n",
    "   ```\n",
    "\n",
    "3. **Stage Your Notebook**:\n",
    "   ```python\n",
    "   !git add my_notebook.ipynb\n",
    "   ```\n",
    "\n",
    "4. **Commit the Changes**:\n",
    "   ```python\n",
    "   !git commit -m \"Initial commit for my notebook\"\n",
    "   ```\n",
    "\n",
    "5. **Push to GitHub**:\n",
    "   If your repository is already connected to GitHub:\n",
    "   ```python\n",
    "   !git push origin main\n",
    "   ```\n",
    "   If not, first add the remote URL:\n",
    "   ```python\n",
    "   !git remote add origin https://github.com/username/repository.git\n",
    "   !git branch -M main\n",
    "   !git push -u origin main\n",
    "   ```\n",
    "\n",
    "---\n",
    "\n",
    "### **4. Using JupyterLab Git Extension**\n",
    "If you're using **JupyterLab**, you can install the **JupyterLab Git extension** for a graphical interface to manage Git operations.\n",
    "\n",
    "#### Installation:\n",
    "1. Install Git extension:\n",
    "   ```bash\n",
    "   pip install jupyterlab-git\n",
    "   jupyter labextension install @jupyterlab/git\n",
    "   ```\n",
    "2. Start JupyterLab:\n",
    "   ```bash\n",
    "   jupyter lab\n",
    "   ```\n",
    "\n",
    "You’ll see a Git tab in the left-hand sidebar, where you can perform Git operations with a GUI.\n",
    "\n",
    "---\n",
    "\n",
    "### **5. Tips for Using Git with Jupyter Notebooks**\n",
    "- **Minimize Merge Conflicts**: Jupyter Notebooks are JSON files, and merging changes can be tricky. Use tools like **`nbdime`** to handle notebook diffs and merges:\n",
    "  ```bash\n",
    "  pip install nbdime\n",
    "  nbdime diff notebook1.ipynb notebook2.ipynb\n",
    "  ```\n",
    "- **Keep Outputs Clean**: If your notebooks contain large outputs, consider clearing them before committing:\n",
    "  ```python\n",
    "  !jupyter nbconvert --ClearOutputPreprocessor.enabled=True --inplace my_notebook.ipynb\n",
    "  ```\n",
    "\n",
    "---\n",
    "\n",
    "With these steps, you can seamlessly use Git within Jupyter Notebook for version control and collaboration. Let me know if you need help with a specific workflow or tool! 😊"
   ]
  },
  {
   "cell_type": "code",
   "execution_count": 1,
   "id": "42834911",
   "metadata": {},
   "outputs": [
    {
     "name": "stdout",
     "output_type": "stream",
     "text": [
      "git version 2.45.0.windows.1\n"
     ]
    }
   ],
   "source": [
    "!git --version"
   ]
  },
  {
   "cell_type": "code",
   "execution_count": 2,
   "id": "7058e5e2",
   "metadata": {},
   "outputs": [],
   "source": [
    "!mkdir data_files"
   ]
  },
  {
   "cell_type": "code",
   "execution_count": 3,
   "id": "25ea4bd3",
   "metadata": {},
   "outputs": [
    {
     "name": "stdout",
     "output_type": "stream",
     "text": [
      "On branch main\n",
      "Your branch is up to date with 'origin/main'.\n",
      "\n",
      "Untracked files:\n",
      "  (use \"git add <file>...\" to include in what will be committed)\n",
      "\tGits Know how.ipynb\n",
      "\n",
      "nothing added to commit but untracked files present (use \"git add\" to track)\n"
     ]
    }
   ],
   "source": [
    "!git status"
   ]
  },
  {
   "cell_type": "code",
   "execution_count": 5,
   "id": "c7f0d2c4",
   "metadata": {},
   "outputs": [],
   "source": [
    "!git add Stage-1"
   ]
  },
  {
   "cell_type": "code",
   "execution_count": 6,
   "id": "009194b8",
   "metadata": {},
   "outputs": [
    {
     "name": "stdout",
     "output_type": "stream",
     "text": [
      "On branch main\n",
      "Your branch is up to date with 'origin/main'.\n",
      "\n",
      "Untracked files:\n",
      "  (use \"git add <file>...\" to include in what will be committed)\n",
      "\t.ipynb_checkpoints/\n",
      "\tGits Know how.ipynb\n",
      "\n",
      "nothing added to commit but untracked files present (use \"git add\" to track)\n"
     ]
    }
   ],
   "source": [
    "!git commit -m \"Added folder via Jupyter\""
   ]
  },
  {
   "cell_type": "code",
   "execution_count": 7,
   "id": "99313c0c",
   "metadata": {},
   "outputs": [
    {
     "name": "stderr",
     "output_type": "stream",
     "text": [
      "Everything up-to-date\n"
     ]
    }
   ],
   "source": [
    "!git push origin main"
   ]
  },
  {
   "cell_type": "code",
   "execution_count": 8,
   "id": "5f5775ac",
   "metadata": {},
   "outputs": [
    {
     "name": "stdout",
     "output_type": "stream",
     "text": [
      "* main\n"
     ]
    }
   ],
   "source": [
    "!git branch"
   ]
  },
  {
   "cell_type": "code",
   "execution_count": 9,
   "id": "6866bbe9",
   "metadata": {},
   "outputs": [
    {
     "name": "stdout",
     "output_type": "stream",
     "text": [
      "origin\thttps://github.com/mahagueheme-Lesly/AnitaB.org-1-1-Mentorship.git (fetch)\n",
      "origin\thttps://github.com/mahagueheme-Lesly/AnitaB.org-1-1-Mentorship.git (push)\n"
     ]
    }
   ],
   "source": [
    "!git remote -v"
   ]
  },
  {
   "cell_type": "code",
   "execution_count": 10,
   "id": "9c63263f",
   "metadata": {},
   "outputs": [
    {
     "name": "stdout",
     "output_type": "stream",
     "text": [
      "On branch main\n",
      "Your branch is up to date with 'origin/main'.\n",
      "\n",
      "Untracked files:\n",
      "  (use \"git add <file>...\" to include in what will be committed)\n",
      "\t.ipynb_checkpoints/\n",
      "\tGits Know how.ipynb\n",
      "\n",
      "nothing added to commit but untracked files present (use \"git add\" to track)\n"
     ]
    }
   ],
   "source": [
    "!git status\n"
   ]
  },
  {
   "cell_type": "code",
   "execution_count": 12,
   "id": "ff8858d2",
   "metadata": {},
   "outputs": [
    {
     "name": "stderr",
     "output_type": "stream",
     "text": [
      "warning: in the working copy of '.ipynb_checkpoints/Gits Know how-checkpoint.ipynb', LF will be replaced by CRLF the next time Git touches it\n"
     ]
    }
   ],
   "source": [
    "!git add ."
   ]
  },
  {
   "cell_type": "code",
   "execution_count": 13,
   "id": "d1083cc3",
   "metadata": {},
   "outputs": [
    {
     "name": "stdout",
     "output_type": "stream",
     "text": [
      "On branch main\n",
      "Your branch is up to date with 'origin/main'.\n",
      "\n",
      "Changes to be committed:\n",
      "  (use \"git restore --staged <file>...\" to unstage)\n",
      "\tnew file:   .ipynb_checkpoints/Gits Know how-checkpoint.ipynb\n",
      "\tnew file:   Gits Know how.ipynb\n",
      "\n",
      "Changes not staged for commit:\n",
      "  (use \"git add <file>...\" to update what will be committed)\n",
      "  (use \"git restore <file>...\" to discard changes in working directory)\n",
      "\tmodified:   Gits Know how.ipynb\n",
      "\n"
     ]
    }
   ],
   "source": [
    "! git status"
   ]
  },
  {
   "cell_type": "code",
   "execution_count": 14,
   "id": "fb0a4238",
   "metadata": {},
   "outputs": [
    {
     "name": "stdout",
     "output_type": "stream",
     "text": [
      "[main 1153155] Added Gits Know how notebook and checkpoint files\n",
      " 2 files changed, 569 insertions(+)\n",
      " create mode 100644 .ipynb_checkpoints/Gits Know how-checkpoint.ipynb\n",
      " create mode 100644 Gits Know how.ipynb\n"
     ]
    }
   ],
   "source": [
    "!git commit -m \"Added Gits Know how notebook and checkpoint files\"\n"
   ]
  },
  {
   "cell_type": "code",
   "execution_count": 16,
   "id": "6945b871",
   "metadata": {},
   "outputs": [
    {
     "name": "stderr",
     "output_type": "stream",
     "text": [
      "To https://github.com/mahagueheme-Lesly/AnitaB.org-1-1-Mentorship.git\n",
      "   5c7a3ad..1153155  main -> main\n"
     ]
    }
   ],
   "source": [
    "!git push origin main"
   ]
  },
  {
   "cell_type": "markdown",
   "id": "4e7fb7ff",
   "metadata": {},
   "source": [
    "Yes, you can follow a **structured workflow** to manage your Jupyter Notebooks with Git. This ensures version control and keeps your repository organized. Here’s a format you can follow for working with Git and Jupyter Notebooks:\n",
    "\n",
    "---\n",
    "\n",
    "### **Git Workflow for Jupyter Notebooks**\n",
    "\n",
    "#### **At the Beginning of Your Session**\n",
    "1. **Navigate to Your Repository**:\n",
    "   Make sure you’re in the right folder:\n",
    "   ```bash\n",
    "   cd path/to/your/repository\n",
    "   ```\n",
    "\n",
    "2. **Pull the Latest Changes** (If Working Collaboratively):\n",
    "   ```bash\n",
    "   git pull origin main\n",
    "   ```\n",
    "\n",
    "---\n",
    "\n",
    "#### **During Your Work**\n",
    "- Work on your Jupyter Notebook as usual.\n",
    "- Save your progress regularly in the notebook.\n",
    "\n",
    "---\n",
    "\n",
    "#### **At the End of Your Session**\n",
    "1. **Check the Status of the Repository**:\n",
    "   This shows which files have been modified or added:\n",
    "   ```bash\n",
    "   git status\n",
    "   ```\n",
    "\n",
    "2. **Add the Notebook to Staging**:\n",
    "   Add the specific notebook you worked on:\n",
    "   ```bash\n",
    "   git add notebook_name.ipynb\n",
    "   ```\n",
    "   Example:\n",
    "   ```bash\n",
    "   git add MyAnalysis.ipynb\n",
    "   ```\n",
    "\n",
    "   If you want to stage all changes (including new notebooks or other files):\n",
    "   ```bash\n",
    "   git add .\n",
    "   ```\n",
    "\n",
    "3. **Commit Your Changes**:\n",
    "   Use a meaningful commit message to describe your changes:\n",
    "   ```bash\n",
    "   git commit -m \"Updated analysis on XYZ data\"\n",
    "   ```\n",
    "\n",
    "4. **Push the Changes to GitHub**:\n",
    "   Push the committed changes to the remote repository:\n",
    "   ```bash\n",
    "   git push origin main\n",
    "   ```\n",
    "\n",
    "---\n",
    "\n",
    "### **Recommended Git Workflow Format**\n",
    "\n",
    "#### **Daily Workflow for Each Notebook**\n",
    "\n",
    "1. **Before Starting**:\n",
    "   - Pull the latest changes:\n",
    "     ```bash\n",
    "     git pull origin main\n",
    "     ```\n",
    "\n",
    "2. **Work on the Notebook**:\n",
    "   - Save progress frequently in Jupyter Notebook.\n",
    "\n",
    "3. **After Finishing**:\n",
    "   - Check the repository status:\n",
    "     ```bash\n",
    "     git status\n",
    "     ```\n",
    "   - Stage the changes:\n",
    "     ```bash\n",
    "     git add notebook_name.ipynb\n",
    "     ```\n",
    "   - Commit the changes with a meaningful message:\n",
    "     ```bash\n",
    "     git commit -m \"Updated analysis on XYZ data\"\n",
    "     ```\n",
    "   - Push the changes to the remote repository:\n",
    "     ```bash\n",
    "     git push origin main\n",
    "     ```\n",
    "\n",
    "---\n",
    "\n",
    "### **Tips for Working with Git and Jupyter Notebooks**\n",
    "1. **Avoid Large Outputs**:\n",
    "   - If your notebook generates large outputs, consider clearing the outputs before committing:\n",
    "     ```bash\n",
    "     jupyter nbconvert --ClearOutputPreprocessor.enabled=True --inplace notebook_name.ipynb\n",
    "     ```\n",
    "\n",
    "2. **Minimize Merge Conflicts**:\n",
    "   - If working collaboratively, use tools like `nbdime` for resolving notebook merge conflicts:\n",
    "     ```bash\n",
    "     pip install nbdime\n",
    "     nbdime diff notebook1.ipynb notebook2.ipynb\n",
    "     ```\n",
    "\n",
    "3. **Use `.gitignore`**:\n",
    "   - Exclude unnecessary files like `.ipynb_checkpoints/`:\n",
    "     Create a `.gitignore` file and add:\n",
    "     ```\n",
    "     .ipynb_checkpoints/\n",
    "     ```\n",
    "\n",
    "4. **Collaborative Work**:\n",
    "   - Always pull before pushing to avoid conflicts:\n",
    "     ```bash\n",
    "     git pull origin main\n",
    "     git push origin main\n",
    "     ```\n",
    "\n",
    "---\n",
    "\n",
    "### **Summary**\n",
    "- **At the start**: Pull the latest changes with `git pull origin main`.\n",
    "- **At the end**: Stage, commit, and push your changes:\n",
    "  ```bash\n",
    "  git add notebook_name.ipynb\n",
    "  git commit -m \"Descriptive message\"\n",
    "  git push origin main\n",
    "  ```\n",
    "\n",
    "By following this structured workflow, you’ll ensure your work is well-organized, version-controlled, and ready for collaboration. Let me know if you need help automating parts of this process or integrating with JupyterLab! 😊"
   ]
  },
  {
   "cell_type": "code",
   "execution_count": null,
   "id": "fda5100b",
   "metadata": {},
   "outputs": [],
   "source": []
  }
 ],
 "metadata": {
  "kernelspec": {
   "display_name": "Python 3 (ipykernel)",
   "language": "python",
   "name": "python3"
  },
  "language_info": {
   "codemirror_mode": {
    "name": "ipython",
    "version": 3
   },
   "file_extension": ".py",
   "mimetype": "text/x-python",
   "name": "python",
   "nbconvert_exporter": "python",
   "pygments_lexer": "ipython3",
   "version": "3.11.5"
  }
 },
 "nbformat": 4,
 "nbformat_minor": 5
}
